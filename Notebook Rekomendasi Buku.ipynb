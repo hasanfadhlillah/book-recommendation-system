{
 "cells": [
  {
   "cell_type": "markdown",
   "id": "50bbebe4",
   "metadata": {},
   "source": [
    "# **Proyek Sistem Rekomendasi Buku**"
   ]
  },
  {
   "cell_type": "markdown",
   "id": "d4b7e2e6",
   "metadata": {},
   "source": [
    "## Import Libraries"
   ]
  },
  {
   "cell_type": "code",
   "execution_count": 1,
   "id": "9e913613",
   "metadata": {},
   "outputs": [
    {
     "name": "stdout",
     "output_type": "stream",
     "text": [
      "Semua library berhasil diimpor.\n"
     ]
    }
   ],
   "source": [
    "# Import library dasar\n",
    "import pandas as pd\n",
    "import numpy as np\n",
    "\n",
    "# Import library untuk visualisasi\n",
    "import matplotlib.pyplot as plt\n",
    "import seaborn as sns\n",
    "\n",
    "# Import library untuk machine learning\n",
    "from sklearn.feature_extraction.text import TfidfVectorizer\n",
    "from sklearn.metrics.pairwise import cosine_similarity\n",
    "import tensorflow as tf\n",
    "from tensorflow import keras\n",
    "from tensorflow.keras import layers\n",
    "from tensorflow.keras.callbacks import EarlyStopping\n",
    "\n",
    "# Import library untuk interaktivitas di notebook\n",
    "import ipywidgets as widgets\n",
    "from ipywidgets import interact\n",
    "from IPython.display import display\n",
    "\n",
    "# Mengabai peringatan yang tidak penting\n",
    "import warnings\n",
    "warnings.filterwarnings(\"ignore\")\n",
    "\n",
    "print(\"Semua library berhasil diimpor.\")"
   ]
  },
  {
   "cell_type": "markdown",
   "id": "5f2c0790",
   "metadata": {},
   "source": [
    "## Data Loading"
   ]
  },
  {
   "cell_type": "code",
   "execution_count": 2,
   "id": "cebf2692",
   "metadata": {},
   "outputs": [
    {
     "name": "stdout",
     "output_type": "stream",
     "text": [
      "Dataset berhasil dimuat.\n"
     ]
    }
   ],
   "source": [
    "# Memuat dataset dari file CSV\n",
    "try:\n",
    "    books = pd.read_csv('./datasets/Books.csv', on_bad_lines='skip', encoding='latin-1', low_memory=False)\n",
    "    ratings = pd.read_csv('./datasets/Ratings.csv', on_bad_lines='skip', encoding='latin-1', low_memory=False)\n",
    "    users = pd.read_csv('./datasets/Users.csv', on_bad_lines='skip', encoding='latin-1', low_memory=False)\n",
    "    print(\"Dataset berhasil dimuat.\")\n",
    "except FileNotFoundError as e:\n",
    "    print(f\"Error: {e}.\")\n",
    "    print(\"Pastikan file Books.csv, Ratings.csv, dan Users.csv berada di direktori yang sama.\")"
   ]
  },
  {
   "cell_type": "markdown",
   "id": "a0bf16cf",
   "metadata": {},
   "source": [
    "## Data Understanding - Part 1"
   ]
  },
  {
   "cell_type": "markdown",
   "id": "7f0890f5",
   "metadata": {},
   "source": [
    "### Inspeksi Data Awal"
   ]
  },
  {
   "cell_type": "code",
   "execution_count": 3,
   "id": "9bc3ad92",
   "metadata": {},
   "outputs": [
    {
     "name": "stdout",
     "output_type": "stream",
     "text": [
      "--- Inspeksi DataFrame 'books' ---\n",
      "         ISBN                                         Book-Title  \\\n",
      "0  0195153448                                Classical Mythology   \n",
      "1  0002005018                                       Clara Callan   \n",
      "2  0060973129                               Decision in Normandy   \n",
      "3  0374157065  Flu: The Story of the Great Influenza Pandemic...   \n",
      "4  0393045218                             The Mummies of Urumchi   \n",
      "\n",
      "            Book-Author Year-Of-Publication                   Publisher  \\\n",
      "0    Mark P. O. Morford                2002     Oxford University Press   \n",
      "1  Richard Bruce Wright                2001       HarperFlamingo Canada   \n",
      "2          Carlo D'Este                1991             HarperPerennial   \n",
      "3      Gina Bari Kolata                1999        Farrar Straus Giroux   \n",
      "4       E. J. W. Barber                1999  W. W. Norton &amp; Company   \n",
      "\n",
      "                                         Image-URL-S  \\\n",
      "0  http://images.amazon.com/images/P/0195153448.0...   \n",
      "1  http://images.amazon.com/images/P/0002005018.0...   \n",
      "2  http://images.amazon.com/images/P/0060973129.0...   \n",
      "3  http://images.amazon.com/images/P/0374157065.0...   \n",
      "4  http://images.amazon.com/images/P/0393045218.0...   \n",
      "\n",
      "                                         Image-URL-M  \\\n",
      "0  http://images.amazon.com/images/P/0195153448.0...   \n",
      "1  http://images.amazon.com/images/P/0002005018.0...   \n",
      "2  http://images.amazon.com/images/P/0060973129.0...   \n",
      "3  http://images.amazon.com/images/P/0374157065.0...   \n",
      "4  http://images.amazon.com/images/P/0393045218.0...   \n",
      "\n",
      "                                         Image-URL-L  \n",
      "0  http://images.amazon.com/images/P/0195153448.0...  \n",
      "1  http://images.amazon.com/images/P/0002005018.0...  \n",
      "2  http://images.amazon.com/images/P/0060973129.0...  \n",
      "3  http://images.amazon.com/images/P/0374157065.0...  \n",
      "4  http://images.amazon.com/images/P/0393045218.0...  \n",
      "\n",
      "Info 'books':\n",
      "<class 'pandas.core.frame.DataFrame'>\n",
      "RangeIndex: 271360 entries, 0 to 271359\n",
      "Data columns (total 8 columns):\n",
      " #   Column               Non-Null Count   Dtype \n",
      "---  ------               --------------   ----- \n",
      " 0   ISBN                 271360 non-null  object\n",
      " 1   Book-Title           271360 non-null  object\n",
      " 2   Book-Author          271358 non-null  object\n",
      " 3   Year-Of-Publication  271360 non-null  object\n",
      " 4   Publisher            271358 non-null  object\n",
      " 5   Image-URL-S          271360 non-null  object\n",
      " 6   Image-URL-M          271360 non-null  object\n",
      " 7   Image-URL-L          271357 non-null  object\n",
      "dtypes: object(8)\n",
      "memory usage: 16.6+ MB\n",
      "\n",
      "Cek Missing Values 'books':\n",
      "ISBN                   0\n",
      "Book-Title             0\n",
      "Book-Author            2\n",
      "Year-Of-Publication    0\n",
      "Publisher              2\n",
      "Image-URL-S            0\n",
      "Image-URL-M            0\n",
      "Image-URL-L            3\n",
      "dtype: int64\n",
      "\n",
      "========================================\n",
      "\n",
      "--- Inspeksi DataFrame 'users' ---\n",
      "   User-ID                            Location   Age\n",
      "0        1                  nyc, new york, usa   NaN\n",
      "1        2           stockton, california, usa  18.0\n",
      "2        3     moscow, yukon territory, russia   NaN\n",
      "3        4           porto, v.n.gaia, portugal  17.0\n",
      "4        5  farnborough, hants, united kingdom   NaN\n",
      "\n",
      "Info 'users':\n",
      "<class 'pandas.core.frame.DataFrame'>\n",
      "RangeIndex: 278858 entries, 0 to 278857\n",
      "Data columns (total 3 columns):\n",
      " #   Column    Non-Null Count   Dtype  \n",
      "---  ------    --------------   -----  \n",
      " 0   User-ID   278858 non-null  int64  \n",
      " 1   Location  278858 non-null  object \n",
      " 2   Age       168096 non-null  float64\n",
      "dtypes: float64(1), int64(1), object(1)\n",
      "memory usage: 6.4+ MB\n",
      "\n",
      "Cek Missing Values 'users':\n",
      "User-ID          0\n",
      "Location         0\n",
      "Age         110762\n",
      "dtype: int64\n",
      "\n",
      "========================================\n",
      "\n",
      "--- Inspeksi DataFrame 'ratings' ---\n",
      "   User-ID        ISBN  Book-Rating\n",
      "0   276725  034545104X            0\n",
      "1   276726  0155061224            5\n",
      "2   276727  0446520802            0\n",
      "3   276729  052165615X            3\n",
      "4   276729  0521795028            6\n",
      "\n",
      "Info 'ratings':\n",
      "<class 'pandas.core.frame.DataFrame'>\n",
      "RangeIndex: 1149780 entries, 0 to 1149779\n",
      "Data columns (total 3 columns):\n",
      " #   Column       Non-Null Count    Dtype \n",
      "---  ------       --------------    ----- \n",
      " 0   User-ID      1149780 non-null  int64 \n",
      " 1   ISBN         1149780 non-null  object\n",
      " 2   Book-Rating  1149780 non-null  int64 \n",
      "dtypes: int64(2), object(1)\n",
      "memory usage: 26.3+ MB\n",
      "\n",
      "Cek Missing Values 'ratings':\n",
      "User-ID        0\n",
      "ISBN           0\n",
      "Book-Rating    0\n",
      "dtype: int64\n"
     ]
    }
   ],
   "source": [
    "# Inspeksi Data Awal (Data Understanding - Part 1)\n",
    "print(\"--- Inspeksi DataFrame 'books' ---\")\n",
    "print(books.head())\n",
    "print(\"\\nInfo 'books':\")\n",
    "books.info()\n",
    "print(\"\\nCek Missing Values 'books':\")\n",
    "print(books.isnull().sum())\n",
    "print(\"\\n\" + \"=\"*40 + \"\\n\")\n",
    "\n",
    "print(\"--- Inspeksi DataFrame 'users' ---\")\n",
    "print(users.head())\n",
    "print(\"\\nInfo 'users':\")\n",
    "users.info()\n",
    "print(\"\\nCek Missing Values 'users':\")\n",
    "print(users.isnull().sum())\n",
    "print(\"\\n\" + \"=\"*40 + \"\\n\")\n",
    "\n",
    "print(\"--- Inspeksi DataFrame 'ratings' ---\")\n",
    "print(ratings.head())\n",
    "print(\"\\nInfo 'ratings':\")\n",
    "ratings.info()\n",
    "print(\"\\nCek Missing Values 'ratings':\")\n",
    "print(ratings.isnull().sum())"
   ]
  },
  {
   "cell_type": "markdown",
   "id": "4bc50234",
   "metadata": {},
   "source": [
    "## Data Preparation - Part 1"
   ]
  },
  {
   "cell_type": "markdown",
   "id": "92a25def",
   "metadata": {},
   "source": [
    "### Data Cleaning & Preprocessing"
   ]
  },
  {
   "cell_type": "code",
   "execution_count": 4,
   "id": "b1dd5ba0",
   "metadata": {},
   "outputs": [
    {
     "name": "stdout",
     "output_type": "stream",
     "text": [
      "--- Memulai Data Cleaning ---\n",
      "--- Data Cleaning Selesai ---\n",
      "\n",
      "Info 'books' setelah cleaning:\n",
      "<class 'pandas.core.frame.DataFrame'>\n",
      "RangeIndex: 271360 entries, 0 to 271359\n",
      "Data columns (total 8 columns):\n",
      " #   Column               Non-Null Count   Dtype  \n",
      "---  ------               --------------   -----  \n",
      " 0   ISBN                 271360 non-null  object \n",
      " 1   Book-Title           271360 non-null  object \n",
      " 2   Book-Author          271360 non-null  object \n",
      " 3   Year-Of-Publication  271360 non-null  float64\n",
      " 4   Publisher            271360 non-null  object \n",
      " 5   Image-URL-S          271360 non-null  object \n",
      " 6   Image-URL-M          271360 non-null  object \n",
      " 7   Image-URL-L          271357 non-null  object \n",
      "dtypes: float64(1), object(7)\n",
      "memory usage: 16.6+ MB\n",
      "\n",
      "Info 'users' setelah cleaning:\n",
      "<class 'pandas.core.frame.DataFrame'>\n",
      "RangeIndex: 278858 entries, 0 to 278857\n",
      "Data columns (total 3 columns):\n",
      " #   Column    Non-Null Count   Dtype  \n",
      "---  ------    --------------   -----  \n",
      " 0   User-ID   278858 non-null  int64  \n",
      " 1   Location  278858 non-null  object \n",
      " 2   Age       278858 non-null  float64\n",
      "dtypes: float64(1), int64(1), object(1)\n",
      "memory usage: 6.4+ MB\n"
     ]
    }
   ],
   "source": [
    "# Data Cleaning & Preprocessing (Data Preparation - Part 1)\n",
    "print(\"--- Memulai Data Cleaning ---\")\n",
    "\n",
    "# Membersihkan kolom 'Year-Of-Publication'\n",
    "# Mengubah ke numerik, error diubah menjadi NaN (Not a Number)\n",
    "books['Year-Of-Publication'] = pd.to_numeric(books['Year-Of-Publication'], errors='coerce')\n",
    "# Mengganti tahun yang tidak valid (misal: 0 atau > 2025) dengan NaN\n",
    "books.loc[(books['Year-Of-Publication'] == 0) | (books['Year-Of-Publication'] > 2025), 'Year-Of-Publication'] = np.NAN\n",
    "# Mengisi NaN dengan median tahun publikasi\n",
    "books['Year-Of-Publication'].fillna(round(books['Year-Of-Publication'].median()), inplace=True)\n",
    "\n",
    "# Membersihkan kolom 'Publisher' dan 'Book-Author'\n",
    "# Mengisi NaN dengan 'Unknown'\n",
    "books['Publisher'].fillna('Unknown', inplace=True)\n",
    "books['Book-Author'].fillna('Unknown', inplace=True)\n",
    "\n",
    "# Membersihkan kolom 'Age' di 'users'\n",
    "# Mengganti umur yang tidak realistis (< 5 atau > 100) dengan NaN\n",
    "users.loc[(users['Age'] < 5) | (users['Age'] > 100), 'Age'] = np.nan\n",
    "# Mengisi NaN dengan median umur\n",
    "users['Age'].fillna(users['Age'].median(), inplace=True)\n",
    "\n",
    "\n",
    "print(\"--- Data Cleaning Selesai ---\")\n",
    "print(\"\\nInfo 'books' setelah cleaning:\")\n",
    "books.info()\n",
    "print(\"\\nInfo 'users' setelah cleaning:\")\n",
    "users.info()"
   ]
  },
  {
   "cell_type": "markdown",
   "id": "ab1710ca",
   "metadata": {},
   "source": [
    "## Data Understanding - Part 2"
   ]
  },
  {
   "cell_type": "markdown",
   "id": "6f0e6f16",
   "metadata": {},
   "source": [
    "### Exploratory Data Analysis (EDA)"
   ]
  },
  {
   "cell_type": "code",
   "execution_count": 5,
   "id": "2aba68ed",
   "metadata": {},
   "outputs": [
    {
     "data": {
      "image/png": "[encoded data removed]",
      "text/plain": [
       "<Figure size 1000x600 with 1 Axes>"
      ]
     },
     "metadata": {},
     "output_type": "display_data"
    },
    {
     "data": {
      "image/png": "[encoded data removed]",
      "text/plain": [
       "<Figure size 1000x600 with 1 Axes>"
      ]
     },
     "metadata": {},
     "output_type": "display_data"
    },
    {
     "data": {
      "image/png": "[encoded data removed]",
      "text/plain": [
       "<Figure size 1000x600 with 1 Axes>"
      ]
     },
     "metadata": {},
     "output_type": "display_data"
    }
   ],
   "source": [
    "# Exploratory Data Analysis (EDA) - (Data Understanding - Part 2)\n",
    "\n",
    "# --- Univariate Analysis ---\n",
    "# 1. Distribusi Umur Pengguna\n",
    "plt.figure(figsize=(10, 6))\n",
    "sns.histplot(users['Age'], bins=30, kde=True)\n",
    "plt.title('Distribusi Umur Pengguna')\n",
    "plt.xlabel('Umur')\n",
    "plt.ylabel('Jumlah Pengguna')\n",
    "plt.show()\n",
    "\n",
    "# 2. Distribusi Tahun Publikasi Buku\n",
    "plt.figure(figsize=(10, 6))\n",
    "sns.histplot(books['Year-Of-Publication'], bins=30, kde=True)\n",
    "plt.title('Distribusi Tahun Publikasi Buku')\n",
    "plt.xlabel('Tahun Publikasi')\n",
    "plt.ylabel('Jumlah Buku')\n",
    "plt.show()\n",
    "\n",
    "# --- Bivariate Analysis ---\n",
    "# Gabungkan semua data untuk analisis mendalam\n",
    "df_merged = pd.merge(ratings, users, on='User-ID')\n",
    "df_merged = pd.merge(df_merged, books, on='ISBN')\n",
    "\n",
    "# 3. Rata-rata Rating berdasarkan Kelompok Umur\n",
    "# Membuat kategori umur\n",
    "bins = [0, 18, 30, 50, 100]\n",
    "labels = ['<18', '18-30', '31-50', '>50']\n",
    "df_merged['Age-Group'] = pd.cut(df_merged['Age'], bins=bins, labels=labels, right=False)\n",
    "\n",
    "# Mengabaikan rating 0 (implisit) untuk analisis ini\n",
    "avg_rating_by_age = df_merged[df_merged['Book-Rating'] != 0].groupby('Age-Group')['Book-Rating'].mean()\n",
    "\n",
    "plt.figure(figsize=(10, 6))\n",
    "avg_rating_by_age.plot(kind='bar', color=sns.color_palette('viridis'))\n",
    "plt.title('Rata-rata Rating Buku Berdasarkan Kelompok Umur')\n",
    "plt.xlabel('Kelompok Umur')\n",
    "plt.ylabel('Rata-rata Rating')\n",
    "plt.xticks(rotation=0)\n",
    "plt.show()"
   ]
  },
  {
   "cell_type": "markdown",
   "id": "c597bab3",
   "metadata": {},
   "source": [
    "## Data Preparation - Part 2"
   ]
  },
  {
   "cell_type": "markdown",
   "id": "6fa06fe7",
   "metadata": {},
   "source": [
    "### Menggabungkan dan Finalisasi Data"
   ]
  },
  {
   "cell_type": "code",
   "execution_count": 6,
   "id": "b00eadc9",
   "metadata": {},
   "outputs": [
    {
     "name": "stdout",
     "output_type": "stream",
     "text": [
      "Jumlah data setelah digabung dan dibersihkan: 1026358\n"
     ]
    }
   ],
   "source": [
    "# Menggabungkan dan Finalisasi Data (Data Preparation - Part 2)\n",
    "\n",
    "# Menggabungkan ratings dan books\n",
    "df_final = pd.merge(ratings, books, on='ISBN', how='left')\n",
    "\n",
    "# Menghapus duplikat berdasarkan interaksi user-judul buku\n",
    "df_final.drop_duplicates(['User-ID', 'Book-Title'], inplace=True)\n",
    "\n",
    "# Menghapus baris dimana atribut penting untuk model tidak ada\n",
    "df_final.dropna(subset=['Book-Title', 'Book-Author'], inplace=True)\n",
    "\n",
    "print(f\"Jumlah data setelah digabung dan dibersihkan: {len(df_final)}\")"
   ]
  },
  {
   "cell_type": "markdown",
   "id": "dc655f3a",
   "metadata": {},
   "source": [
    "## Model Development"
   ]
  },
  {
   "cell_type": "markdown",
   "id": "f8d1f010",
   "metadata": {},
   "source": [
    "### Content-Based Filtering"
   ]
  },
  {
   "cell_type": "code",
   "execution_count": 7,
   "id": "8564a5a4",
   "metadata": {},
   "outputs": [
    {
     "data": {
      "application/vnd.jupyter.widget-view+json": {
       "model_id": "2be86bf16ada4cb497fe51fefb0ffefa",
       "version_major": 2,
       "version_minor": 0
      },
      "text/plain": [
       "interactive(children=(Dropdown(description='Pilih Judul Buku:', layout=Layout(width='500px'), options=(' A Lig…"
      ]
     },
     "metadata": {},
     "output_type": "display_data"
    }
   ],
   "source": [
    "# Model Development - Content-Based Filtering\n",
    "\n",
    "# Persiapan data unik buku\n",
    "books_for_content = df_final.drop_duplicates('Book-Title')[['Book-Title', 'Book-Author']]\n",
    "\n",
    "# Inisialisasi dan fitting TF-IDF\n",
    "tf_idf = TfidfVectorizer(max_features=5000)\n",
    "tfidf_matrix = tf_idf.fit_transform(books_for_content['Book-Author'].fillna(''))\n",
    "\n",
    "def get_book_recommendations(book_title, k=5):\n",
    "    try:\n",
    "        # 1. Cari indeks dari judul buku yang dipilih\n",
    "        book_index = books_for_content[books_for_content['Book-Title'] == book_title].index[0]\n",
    "\n",
    "        # 2. Ambil vektor TF-IDF untuk buku tersebut\n",
    "        book_vector = tfidf_matrix[book_index]\n",
    "\n",
    "        # 3. Hitung cosine similarity HANYA antara buku itu dan semua buku lainnya (sangat efisien)\n",
    "        sim_scores = cosine_similarity(book_vector, tfidf_matrix).flatten()\n",
    "\n",
    "        # 4. Ambil indeks dari k+1 buku paling mirip (k+1 karena buku itu sendiri akan paling mirip)\n",
    "        top_indices = sim_scores.argsort()[-k-1:][::-1]\n",
    "\n",
    "        # 5. Hapus indeks buku itu sendiri dari hasil\n",
    "        top_indices = [i for i in top_indices if i != book_index]\n",
    "\n",
    "        # 6. Ambil judul buku dari indeks teratas\n",
    "        recommended_titles = books_for_content['Book-Title'].iloc[top_indices].head(k)\n",
    "        recommendations = pd.DataFrame({'Book-Title': recommended_titles}).merge(books_for_content)\n",
    "        \n",
    "        return recommendations\n",
    "    except (IndexError, KeyError):\n",
    "        print(f\"Buku dengan judul '{book_title}' tidak ditemukan atau terjadi error.\")\n",
    "        return pd.DataFrame()\n",
    "\n",
    "# --- Widget Interaktif ---\n",
    "book_titles_list = books_for_content['Book-Title'].sort_values().tolist()\n",
    "\n",
    "@interact(\n",
    "    book_title=widgets.Dropdown(options=book_titles_list, description='Pilih Judul Buku:', layout={'width': '500px'}),\n",
    "    k=widgets.IntSlider(min=5, max=15, step=1, value=10, description='Jumlah Rekomendasi:')\n",
    ")\n",
    "def interactive_recommendations(book_title, k):\n",
    "    recommendations_df = get_book_recommendations(book_title, k)\n",
    "    if not recommendations_df.empty:\n",
    "        display(recommendations_df)"
   ]
  },
  {
   "cell_type": "markdown",
   "id": "1cc4c866",
   "metadata": {},
   "source": [
    "### Preparation for Collaborative Filtering"
   ]
  },
  {
   "cell_type": "code",
   "execution_count": 8,
   "id": "a3cc50ad",
   "metadata": {},
   "outputs": [
    {
     "name": "stdout",
     "output_type": "stream",
     "text": [
      "Jumlah data setelah difilter untuk Collaborative Filtering: 168507\n"
     ]
    }
   ],
   "source": [
    "# --- Preparation for Collaborative Filtering ---\n",
    "\n",
    "# Menggunakan data yang sudah digabungkan dan bersih\n",
    "df_collab = df_final.copy()\n",
    "\n",
    "# Konseptual Outlier Handling:\n",
    "# Untuk model collaborative, kita fokus pada pengguna yang aktif dan buku yang cukup po# Untuk mengurangi noise dan membuat model lebih stabil stabil\n",
    "user_counts = df_collab['User-ID'].value_counts()\n",
    "book_counts = df_collab['ISBN'].value_counts()\n",
    "\n",
    "# Filter pengguna yang memberi rating > 10 buku dan buku yang menerima > 5 rating\n",
    "df_collab = df_collab[df_collab['User-ID'].isin(user_counts[user_counts > 10].index)]\n",
    "df_collab = df_collab[df_collab['ISBN'].isin(book_counts[book_counts > 5].index)]\n",
    "\n",
    "# Fokus pada rating eksplisit (1-10)\n",
    "df_collab = df_collab[df_collab['Book-Rating'] != 0]\n",
    "\n",
    "print(f\"Jumlah data setelah difilter untuk Collaborative Filtering: {len(df_collab)}\")\n",
    "\n",
    "\n",
    "# Encoding User-ID dan ISBN\n",
    "user_ids = df_collab['User-ID'].unique().tolist()\n",
    "user_to_user_encoded = {x: i for i, x in enumerate(user_ids)}\n",
    "user_encoded_to_user = {i: x for i, x in enumerate(user_ids)}\n",
    "\n",
    "isbn_ids = df_collab['ISBN'].unique().tolist()\n",
    "isbn_to_isbn_encoded = {x: i for i, x in enumerate(isbn_ids)}\n",
    "isbn_encoded_to_isbn = {i: x for i, x in enumerate(isbn_ids)}\n",
    "\n",
    "# Mapping dan Normalisasi\n",
    "df_collab['user'] = df_collab['User-ID'].map(user_to_user_encoded)\n",
    "df_collab['book'] = df_collab['ISBN'].map(isbn_to_isbn_encoded)\n",
    "\n",
    "min_rating = min(df_collab['Book-Rating'])\n",
    "max_rating = max(df_collab['Book-Rating'])\n",
    "df_collab['rating'] = df_collab['Book-Rating'].apply(lambda x: (x - min_rating) / (max_rating - min_rating)).values\n",
    "\n",
    "# Membagi data training dan validasi\n",
    "df_shuffled = df_collab.sample(frac=1, random_state=42)\n",
    "x = df_shuffled[['user', 'book']].values\n",
    "y = df_shuffled['rating'].values\n",
    "\n",
    "train_indices = int(0.8 * df_shuffled.shape[0])\n",
    "x_train, x_val, y_train, y_val = (\n",
    "    x[:train_indices],\n",
    "    x[train_indices:],\n",
    "    y[:train_indices],\n",
    "    y[train_indices:]\n",
    ")"
   ]
  },
  {
   "cell_type": "markdown",
   "id": "a9bb84d0",
   "metadata": {},
   "source": [
    "### Collaborative Filtering"
   ]
  },
  {
   "cell_type": "code",
   "execution_count": 9,
   "id": "c70a4a30",
   "metadata": {},
   "outputs": [],
   "source": [
    "# Model Development - Collaborative Filtering\n",
    "class RecommenderNet(tf.keras.Model):\n",
    "    def __init__(self, num_users, num_books, embedding_size, **kwargs):\n",
    "        super(RecommenderNet, self).__init__(**kwargs)\n",
    "        self.num_users = num_users\n",
    "        self.num_books = num_books\n",
    "        self.embedding_size = embedding_size\n",
    "        self.user_embedding = layers.Embedding(num_users, embedding_size, embeddings_initializer='he_normal', embeddings_regularizer=keras.regularizers.l2(1e-6))\n",
    "        self.user_bias = layers.Embedding(num_users, 1)\n",
    "        self.book_embedding = layers.Embedding(num_books, embedding_size, embeddings_initializer='he_normal', embeddings_regularizer=keras.regularizers.l2(1e-6))\n",
    "        self.book_bias = layers.Embedding(num_books, 1)\n",
    "\n",
    "    def call(self, inputs):\n",
    "        user_vector = self.user_embedding(inputs[:, 0])\n",
    "        user_bias = self.user_bias(inputs[:, 0])\n",
    "        book_vector = self.book_embedding(inputs[:, 1])\n",
    "        book_bias = self.book_bias(inputs[:, 1])\n",
    "        dot_user_book = tf.tensordot(user_vector, book_vector, 2)\n",
    "        x = dot_user_book + user_bias + book_bias\n",
    "        return tf.nn.sigmoid(x)\n",
    "\n",
    "model = RecommenderNet(len(user_to_user_encoded), len(isbn_to_isbn_encoded), 50)\n",
    "model.compile(\n",
    "    loss=tf.keras.losses.BinaryCrossentropy(),\n",
    "    optimizer=keras.optimizers.Adam(learning_rate=0.0005),\n",
    "    metrics=[tf.keras.metrics.RootMeanSquaredError()]\n",
    ")"
   ]
  },
  {
   "cell_type": "markdown",
   "id": "4f3b2620",
   "metadata": {},
   "source": [
    "### Training the Collaborative Model"
   ]
  },
  {
   "cell_type": "code",
   "execution_count": 13,
   "id": "9814d9eb",
   "metadata": {},
   "outputs": [
    {
     "name": "stdout",
     "output_type": "stream",
     "text": [
      "Epoch 1/50\n",
      "\u001b[1m4213/4213\u001b[0m \u001b[32m━━━━━━━━━━━━━━━━━━━━\u001b[0m\u001b[37m\u001b[0m \u001b[1m117s\u001b[0m 28ms/step - loss: 0.5597 - root_mean_squared_error: 0.1941 - val_loss: 0.5604 - val_root_mean_squared_error: 0.1966\n",
      "Epoch 2/50\n",
      "\u001b[1m4213/4213\u001b[0m \u001b[32m━━━━━━━━━━━━━━━━━━━━\u001b[0m\u001b[37m\u001b[0m \u001b[1m116s\u001b[0m 27ms/step - loss: 0.5510 - root_mean_squared_error: 0.1860 - val_loss: 0.5584 - val_root_mean_squared_error: 0.1944\n",
      "Epoch 3/50\n",
      "\u001b[1m4213/4213\u001b[0m \u001b[32m━━━━━━━━━━━━━━━━━━━━\u001b[0m\u001b[37m\u001b[0m \u001b[1m116s\u001b[0m 28ms/step - loss: 0.5470 - root_mean_squared_error: 0.1810 - val_loss: 0.5554 - val_root_mean_squared_error: 0.1912\n",
      "Epoch 4/50\n",
      "\u001b[1m4213/4213\u001b[0m \u001b[32m━━━━━━━━━━━━━━━━━━━━\u001b[0m\u001b[37m\u001b[0m \u001b[1m115s\u001b[0m 27ms/step - loss: 0.5425 - root_mean_squared_error: 0.1762 - val_loss: 0.5563 - val_root_mean_squared_error: 0.1923\n",
      "Epoch 5/50\n",
      "\u001b[1m4213/4213\u001b[0m \u001b[32m━━━━━━━━━━━━━━━━━━━━\u001b[0m\u001b[37m\u001b[0m \u001b[1m115s\u001b[0m 27ms/step - loss: 0.5398 - root_mean_squared_error: 0.1736 - val_loss: 0.5542 - val_root_mean_squared_error: 0.1903\n",
      "Epoch 6/50\n",
      "\u001b[1m4213/4213\u001b[0m \u001b[32m━━━━━━━━━━━━━━━━━━━━\u001b[0m\u001b[37m\u001b[0m \u001b[1m115s\u001b[0m 27ms/step - loss: 0.5373 - root_mean_squared_error: 0.1705 - val_loss: 0.5547 - val_root_mean_squared_error: 0.1911\n",
      "Epoch 7/50\n",
      "\u001b[1m4213/4213\u001b[0m \u001b[32m━━━━━━━━━━━━━━━━━━━━\u001b[0m\u001b[37m\u001b[0m \u001b[1m115s\u001b[0m 27ms/step - loss: 0.5347 - root_mean_squared_error: 0.1681 - val_loss: 0.5523 - val_root_mean_squared_error: 0.1888\n",
      "Epoch 8/50\n",
      "\u001b[1m4213/4213\u001b[0m \u001b[32m━━━━━━━━━━━━━━━━━━━━\u001b[0m\u001b[37m\u001b[0m \u001b[1m115s\u001b[0m 27ms/step - loss: 0.5329 - root_mean_squared_error: 0.1663 - val_loss: 0.5522 - val_root_mean_squared_error: 0.1889\n",
      "Epoch 9/50\n",
      "\u001b[1m4213/4213\u001b[0m \u001b[32m━━━━━━━━━━━━━━━━━━━━\u001b[0m\u001b[37m\u001b[0m \u001b[1m118s\u001b[0m 28ms/step - loss: 0.5319 - root_mean_squared_error: 0.1651 - val_loss: 0.5507 - val_root_mean_squared_error: 0.1874\n",
      "Epoch 10/50\n",
      "\u001b[1m4213/4213\u001b[0m \u001b[32m━━━━━━━━━━━━━━━━━━━━\u001b[0m\u001b[37m\u001b[0m \u001b[1m116s\u001b[0m 27ms/step - loss: 0.5308 - root_mean_squared_error: 0.1633 - val_loss: 0.5505 - val_root_mean_squared_error: 0.1874\n",
      "Epoch 11/50\n",
      "\u001b[1m4213/4213\u001b[0m \u001b[32m━━━━━━━━━━━━━━━━━━━━\u001b[0m\u001b[37m\u001b[0m \u001b[1m116s\u001b[0m 27ms/step - loss: 0.5293 - root_mean_squared_error: 0.1617 - val_loss: 0.5514 - val_root_mean_squared_error: 0.1886\n",
      "Epoch 12/50\n",
      "\u001b[1m4213/4213\u001b[0m \u001b[32m━━━━━━━━━━━━━━━━━━━━\u001b[0m\u001b[37m\u001b[0m \u001b[1m115s\u001b[0m 27ms/step - loss: 0.5280 - root_mean_squared_error: 0.1603 - val_loss: 0.5506 - val_root_mean_squared_error: 0.1879\n",
      "Epoch 13/50\n",
      "\u001b[1m4213/4213\u001b[0m \u001b[32m━━━━━━━━━━━━━━━━━━━━\u001b[0m\u001b[37m\u001b[0m \u001b[1m116s\u001b[0m 27ms/step - loss: 0.5280 - root_mean_squared_error: 0.1596 - val_loss: 0.5504 - val_root_mean_squared_error: 0.1878\n",
      "Epoch 14/50\n",
      "\u001b[1m4213/4213\u001b[0m \u001b[32m━━━━━━━━━━━━━━━━━━━━\u001b[0m\u001b[37m\u001b[0m \u001b[1m116s\u001b[0m 27ms/step - loss: 0.5264 - root_mean_squared_error: 0.1589 - val_loss: 0.5495 - val_root_mean_squared_error: 0.1870\n",
      "Epoch 15/50\n",
      "\u001b[1m4213/4213\u001b[0m \u001b[32m━━━━━━━━━━━━━━━━━━━━\u001b[0m\u001b[37m\u001b[0m \u001b[1m116s\u001b[0m 27ms/step - loss: 0.5256 - root_mean_squared_error: 0.1578 - val_loss: 0.5501 - val_root_mean_squared_error: 0.1878\n",
      "Epoch 16/50\n",
      "\u001b[1m4213/4213\u001b[0m \u001b[32m━━━━━━━━━━━━━━━━━━━━\u001b[0m\u001b[37m\u001b[0m \u001b[1m116s\u001b[0m 27ms/step - loss: 0.5253 - root_mean_squared_error: 0.1569 - val_loss: 0.5507 - val_root_mean_squared_error: 0.1887\n",
      "Epoch 17/50\n",
      "\u001b[1m4213/4213\u001b[0m \u001b[32m━━━━━━━━━━━━━━━━━━━━\u001b[0m\u001b[37m\u001b[0m \u001b[1m116s\u001b[0m 28ms/step - loss: 0.5233 - root_mean_squared_error: 0.1557 - val_loss: 0.5505 - val_root_mean_squared_error: 0.1886\n",
      "Epoch 18/50\n",
      "\u001b[1m4213/4213\u001b[0m \u001b[32m━━━━━━━━━━━━━━━━━━━━\u001b[0m\u001b[37m\u001b[0m \u001b[1m116s\u001b[0m 28ms/step - loss: 0.5227 - root_mean_squared_error: 0.1559 - val_loss: 0.5503 - val_root_mean_squared_error: 0.1885\n",
      "Epoch 19/50\n",
      "\u001b[1m4213/4213\u001b[0m \u001b[32m━━━━━━━━━━━━━━━━━━━━\u001b[0m\u001b[37m\u001b[0m \u001b[1m116s\u001b[0m 28ms/step - loss: 0.5216 - root_mean_squared_error: 0.1547 - val_loss: 0.5505 - val_root_mean_squared_error: 0.1889\n",
      "Epoch 20/50\n",
      "\u001b[1m4213/4213\u001b[0m \u001b[32m━━━━━━━━━━━━━━━━━━━━\u001b[0m\u001b[37m\u001b[0m \u001b[1m115s\u001b[0m 27ms/step - loss: 0.5219 - root_mean_squared_error: 0.1546 - val_loss: 0.5509 - val_root_mean_squared_error: 0.1895\n",
      "Epoch 21/50\n",
      "\u001b[1m4213/4213\u001b[0m \u001b[32m━━━━━━━━━━━━━━━━━━━━\u001b[0m\u001b[37m\u001b[0m \u001b[1m116s\u001b[0m 28ms/step - loss: 0.5209 - root_mean_squared_error: 0.1534 - val_loss: 0.5498 - val_root_mean_squared_error: 0.1882\n",
      "Epoch 22/50\n",
      "\u001b[1m4213/4213\u001b[0m \u001b[32m━━━━━━━━━━━━━━━━━━━━\u001b[0m\u001b[37m\u001b[0m \u001b[1m116s\u001b[0m 27ms/step - loss: 0.5213 - root_mean_squared_error: 0.1534 - val_loss: 0.5501 - val_root_mean_squared_error: 0.1886\n",
      "Epoch 23/50\n",
      "\u001b[1m4213/4213\u001b[0m \u001b[32m━━━━━━━━━━━━━━━━━━━━\u001b[0m\u001b[37m\u001b[0m \u001b[1m117s\u001b[0m 28ms/step - loss: 0.5222 - root_mean_squared_error: 0.1532 - val_loss: 0.5499 - val_root_mean_squared_error: 0.1885\n",
      "Epoch 24/50\n",
      "\u001b[1m4213/4213\u001b[0m \u001b[32m━━━━━━━━━━━━━━━━━━━━\u001b[0m\u001b[37m\u001b[0m \u001b[1m117s\u001b[0m 28ms/step - loss: 0.5195 - root_mean_squared_error: 0.1518 - val_loss: 0.5494 - val_root_mean_squared_error: 0.1880\n",
      "Epoch 25/50\n",
      "\u001b[1m4213/4213\u001b[0m \u001b[32m━━━━━━━━━━━━━━━━━━━━\u001b[0m\u001b[37m\u001b[0m \u001b[1m121s\u001b[0m 29ms/step - loss: 0.5201 - root_mean_squared_error: 0.1515 - val_loss: 0.5499 - val_root_mean_squared_error: 0.1886\n",
      "Epoch 26/50\n",
      "\u001b[1m4213/4213\u001b[0m \u001b[32m━━━━━━━━━━━━━━━━━━━━\u001b[0m\u001b[37m\u001b[0m \u001b[1m117s\u001b[0m 28ms/step - loss: 0.5199 - root_mean_squared_error: 0.1515 - val_loss: 0.5498 - val_root_mean_squared_error: 0.1886\n",
      "Epoch 27/50\n",
      "\u001b[1m4213/4213\u001b[0m \u001b[32m━━━━━━━━━━━━━━━━━━━━\u001b[0m\u001b[37m\u001b[0m \u001b[1m118s\u001b[0m 28ms/step - loss: 0.5191 - root_mean_squared_error: 0.1507 - val_loss: 0.5502 - val_root_mean_squared_error: 0.1891\n",
      "Epoch 28/50\n",
      "\u001b[1m4213/4213\u001b[0m \u001b[32m━━━━━━━━━━━━━━━━━━━━\u001b[0m\u001b[37m\u001b[0m \u001b[1m121s\u001b[0m 29ms/step - loss: 0.5186 - root_mean_squared_error: 0.1504 - val_loss: 0.5498 - val_root_mean_squared_error: 0.1886\n",
      "Epoch 29/50\n",
      "\u001b[1m4213/4213\u001b[0m \u001b[32m━━━━━━━━━━━━━━━━━━━━\u001b[0m\u001b[37m\u001b[0m \u001b[1m119s\u001b[0m 28ms/step - loss: 0.5185 - root_mean_squared_error: 0.1496 - val_loss: 0.5507 - val_root_mean_squared_error: 0.1898\n",
      "Epoch 30/50\n",
      "\u001b[1m4213/4213\u001b[0m \u001b[32m━━━━━━━━━━━━━━━━━━━━\u001b[0m\u001b[37m\u001b[0m \u001b[1m120s\u001b[0m 28ms/step - loss: 0.5187 - root_mean_squared_error: 0.1504 - val_loss: 0.5495 - val_root_mean_squared_error: 0.1884\n",
      "Epoch 31/50\n",
      "\u001b[1m4213/4213\u001b[0m \u001b[32m━━━━━━━━━━━━━━━━━━━━\u001b[0m\u001b[37m\u001b[0m \u001b[1m119s\u001b[0m 28ms/step - loss: 0.5165 - root_mean_squared_error: 0.1491 - val_loss: 0.5506 - val_root_mean_squared_error: 0.1897\n",
      "Epoch 32/50\n",
      "\u001b[1m4213/4213\u001b[0m \u001b[32m━━━━━━━━━━━━━━━━━━━━\u001b[0m\u001b[37m\u001b[0m \u001b[1m118s\u001b[0m 28ms/step - loss: 0.5176 - root_mean_squared_error: 0.1485 - val_loss: 0.5500 - val_root_mean_squared_error: 0.1891\n",
      "Epoch 33/50\n",
      "\u001b[1m4213/4213\u001b[0m \u001b[32m━━━━━━━━━━━━━━━━━━━━\u001b[0m\u001b[37m\u001b[0m \u001b[1m113s\u001b[0m 27ms/step - loss: 0.5167 - root_mean_squared_error: 0.1489 - val_loss: 0.5496 - val_root_mean_squared_error: 0.1886\n",
      "Epoch 34/50\n",
      "\u001b[1m4213/4213\u001b[0m \u001b[32m━━━━━━━━━━━━━━━━━━━━\u001b[0m\u001b[37m\u001b[0m \u001b[1m114s\u001b[0m 27ms/step - loss: 0.5168 - root_mean_squared_error: 0.1487 - val_loss: 0.5496 - val_root_mean_squared_error: 0.1887\n",
      "Epoch 35/50\n",
      "\u001b[1m4213/4213\u001b[0m \u001b[32m━━━━━━━━━━━━━━━━━━━━\u001b[0m\u001b[37m\u001b[0m \u001b[1m114s\u001b[0m 27ms/step - loss: 0.5168 - root_mean_squared_error: 0.1484 - val_loss: 0.5496 - val_root_mean_squared_error: 0.1886\n",
      "Epoch 36/50\n",
      "\u001b[1m4213/4213\u001b[0m \u001b[32m━━━━━━━━━━━━━━━━━━━━\u001b[0m\u001b[37m\u001b[0m \u001b[1m115s\u001b[0m 27ms/step - loss: 0.5169 - root_mean_squared_error: 0.1481 - val_loss: 0.5495 - val_root_mean_squared_error: 0.1885\n",
      "Epoch 37/50\n",
      "\u001b[1m4213/4213\u001b[0m \u001b[32m━━━━━━━━━━━━━━━━━━━━\u001b[0m\u001b[37m\u001b[0m \u001b[1m114s\u001b[0m 27ms/step - loss: 0.5167 - root_mean_squared_error: 0.1483 - val_loss: 0.5493 - val_root_mean_squared_error: 0.1883\n",
      "Epoch 38/50\n",
      "\u001b[1m4213/4213\u001b[0m \u001b[32m━━━━━━━━━━━━━━━━━━━━\u001b[0m\u001b[37m\u001b[0m \u001b[1m114s\u001b[0m 27ms/step - loss: 0.5149 - root_mean_squared_error: 0.1474 - val_loss: 0.5503 - val_root_mean_squared_error: 0.1895\n",
      "Epoch 39/50\n",
      "\u001b[1m4213/4213\u001b[0m \u001b[32m━━━━━━━━━━━━━━━━━━━━\u001b[0m\u001b[37m\u001b[0m \u001b[1m115s\u001b[0m 27ms/step - loss: 0.5165 - root_mean_squared_error: 0.1467 - val_loss: 0.5497 - val_root_mean_squared_error: 0.1887\n",
      "Epoch 40/50\n",
      "\u001b[1m4213/4213\u001b[0m \u001b[32m━━━━━━━━━━━━━━━━━━━━\u001b[0m\u001b[37m\u001b[0m \u001b[1m114s\u001b[0m 27ms/step - loss: 0.5144 - root_mean_squared_error: 0.1468 - val_loss: 0.5505 - val_root_mean_squared_error: 0.1898\n",
      "Epoch 41/50\n",
      "\u001b[1m4213/4213\u001b[0m \u001b[32m━━━━━━━━━━━━━━━━━━━━\u001b[0m\u001b[37m\u001b[0m \u001b[1m115s\u001b[0m 27ms/step - loss: 0.5149 - root_mean_squared_error: 0.1461 - val_loss: 0.5497 - val_root_mean_squared_error: 0.1887\n",
      "Epoch 42/50\n",
      "\u001b[1m4213/4213\u001b[0m \u001b[32m━━━━━━━━━━━━━━━━━━━━\u001b[0m\u001b[37m\u001b[0m \u001b[1m114s\u001b[0m 27ms/step - loss: 0.5160 - root_mean_squared_error: 0.1465 - val_loss: 0.5503 - val_root_mean_squared_error: 0.1895\n",
      "Epoch 43/50\n",
      "\u001b[1m4213/4213\u001b[0m \u001b[32m━━━━━━━━━━━━━━━━━━━━\u001b[0m\u001b[37m\u001b[0m \u001b[1m116s\u001b[0m 27ms/step - loss: 0.5147 - root_mean_squared_error: 0.1464 - val_loss: 0.5496 - val_root_mean_squared_error: 0.1886\n",
      "Epoch 44/50\n",
      "\u001b[1m4213/4213\u001b[0m \u001b[32m━━━━━━━━━━━━━━━━━━━━\u001b[0m\u001b[37m\u001b[0m \u001b[1m113s\u001b[0m 27ms/step - loss: 0.5135 - root_mean_squared_error: 0.1461 - val_loss: 0.5502 - val_root_mean_squared_error: 0.1893\n",
      "Epoch 45/50\n",
      "\u001b[1m4213/4213\u001b[0m \u001b[32m━━━━━━━━━━━━━━━━━━━━\u001b[0m\u001b[37m\u001b[0m \u001b[1m114s\u001b[0m 27ms/step - loss: 0.5136 - root_mean_squared_error: 0.1456 - val_loss: 0.5499 - val_root_mean_squared_error: 0.1889\n",
      "Epoch 46/50\n",
      "\u001b[1m4213/4213\u001b[0m \u001b[32m━━━━━━━━━━━━━━━━━━━━\u001b[0m\u001b[37m\u001b[0m \u001b[1m113s\u001b[0m 27ms/step - loss: 0.5143 - root_mean_squared_error: 0.1458 - val_loss: 0.5502 - val_root_mean_squared_error: 0.1893\n",
      "Epoch 47/50\n",
      "\u001b[1m4213/4213\u001b[0m \u001b[32m━━━━━━━━━━━━━━━━━━━━\u001b[0m\u001b[37m\u001b[0m \u001b[1m115s\u001b[0m 27ms/step - loss: 0.5142 - root_mean_squared_error: 0.1446 - val_loss: 0.5502 - val_root_mean_squared_error: 0.1891\n",
      "Epoch 48/50\n",
      "\u001b[1m4213/4213\u001b[0m \u001b[32m━━━━━━━━━━━━━━━━━━━━\u001b[0m\u001b[37m\u001b[0m \u001b[1m114s\u001b[0m 27ms/step - loss: 0.5125 - root_mean_squared_error: 0.1448 - val_loss: 0.5504 - val_root_mean_squared_error: 0.1894\n",
      "Epoch 49/50\n",
      "\u001b[1m4213/4213\u001b[0m \u001b[32m━━━━━━━━━━━━━━━━━━━━\u001b[0m\u001b[37m\u001b[0m \u001b[1m115s\u001b[0m 27ms/step - loss: 0.5133 - root_mean_squared_error: 0.1452 - val_loss: 0.5503 - val_root_mean_squared_error: 0.1892\n",
      "Epoch 50/50\n",
      "\u001b[1m4213/4213\u001b[0m \u001b[32m━━━━━━━━━━━━━━━━━━━━\u001b[0m\u001b[37m\u001b[0m \u001b[1m115s\u001b[0m 27ms/step - loss: 0.5144 - root_mean_squared_error: 0.1454 - val_loss: 0.5506 - val_root_mean_squared_error: 0.1896\n",
      "Restoring model weights from the end of the best epoch: 37.\n"
     ]
    }
   ],
   "source": [
    "# Training the Collaborative Model\n",
    "early_stopping = EarlyStopping(\n",
    "    monitor='val_loss', \n",
    "    patience=15, \n",
    "    verbose=1,\n",
    "    mode='min',  \n",
    "    restore_best_weights=True\n",
    ")\n",
    "\n",
    "# Panggil callback saat training\n",
    "history = model.fit(\n",
    "    x=x_train,\n",
    "    y=y_train,\n",
    "    batch_size=32,\n",
    "    epochs=50,\n",
    "    validation_data=(x_val, y_val),\n",
    "    callbacks=[early_stopping]\n",
    ")"
   ]
  },
  {
   "cell_type": "markdown",
   "id": "c9a90dbf",
   "metadata": {},
   "source": [
    "## Evaluation"
   ]
  },
  {
   "cell_type": "code",
   "execution_count": 14,
   "id": "4275b5dc",
   "metadata": {},
   "outputs": [
    {
     "data": {
      "image/png": "[encoded data removed]",
      "text/plain": [
       "<Figure size 640x480 with 1 Axes>"
      ]
     },
     "metadata": {},
     "output_type": "display_data"
    },
    {
     "name": "stdout",
     "output_type": "stream",
     "text": [
      "\n",
      "--- Hasil Akhir Metrik Model Collaborative Filtering ---\n",
      "Loss Training Terakhir: 0.5132\n",
      "RMSE Training Terakhir: 0.1449\n",
      "------------------------------\n",
      "Loss Validasi Terakhir: 0.5506\n",
      "RMSE Validasi Terakhir: 0.1896\n",
      "\n",
      "--- Interpretasi ---\n",
      "Model memiliki rata-rata kesalahan prediksi rating sebesar 0.1896 pada skala rating yang telah dinormalisasi [0, 1].\n"
     ]
    }
   ],
   "source": [
    "# Plotting hasil training\n",
    "plt.plot(history.history['root_mean_squared_error'])\n",
    "plt.plot(history.history['val_root_mean_squared_error'])\n",
    "plt.title('Model Metrics (RMSE)')\n",
    "plt.ylabel('RMSE')\n",
    "plt.xlabel('Epoch')\n",
    "plt.legend(['train', 'test'], loc='upper left')\n",
    "plt.show()\n",
    "\n",
    "# Mengambil hasil dari epoch terakhir\n",
    "final_loss = history.history['loss'][-1]\n",
    "final_rmse = history.history['root_mean_squared_error'][-1]\n",
    "final_val_loss = history.history['val_loss'][-1]\n",
    "final_val_rmse = history.history['val_root_mean_squared_error'][-1]\n",
    "\n",
    "print(\"\\n--- Hasil Akhir Metrik Model Collaborative Filtering ---\")\n",
    "print(f\"Loss Training Terakhir: {final_loss:.4f}\")\n",
    "print(f\"RMSE Training Terakhir: {final_rmse:.4f}\")\n",
    "print(\"-\" * 30)\n",
    "print(f\"Loss Validasi Terakhir: {final_val_loss:.4f}\")\n",
    "print(f\"RMSE Validasi Terakhir: {final_val_rmse:.4f}\")\n",
    "\n",
    "# Memberikan interpretasi sederhana\n",
    "print(\"\\n--- Interpretasi ---\")\n",
    "print(f\"Model memiliki rata-rata kesalahan prediksi rating sebesar {final_val_rmse:.4f} pada skala rating yang telah dinormalisasi [0, 1].\")"
   ]
  },
  {
   "cell_type": "markdown",
   "id": "7558c08c",
   "metadata": {},
   "source": [
    "## Generating Recommendations from Collaborative Model"
   ]
  },
  {
   "cell_type": "code",
   "execution_count": 15,
   "id": "e0ac480e",
   "metadata": {},
   "outputs": [
    {
     "data": {
      "application/vnd.jupyter.widget-view+json": {
       "model_id": "e19bb5ed9453443fba2275af7555686c",
       "version_major": 2,
       "version_minor": 0
      },
      "text/plain": [
       "interactive(children=(Dropdown(description='Pilih User ID:', options=(8, 99, 242, 243, 254, 383, 388, 408, 424…"
      ]
     },
     "metadata": {},
     "output_type": "display_data"
    }
   ],
   "source": [
    "# Generating Recommendations from Collaborative Model\n",
    "\n",
    "def get_collab_recommendations(user_id_sample):\n",
    "    books_read_by_user = df_collab[df_collab['User-ID'] == user_id_sample]\n",
    "    books_not_read = books[~books['ISBN'].isin(books_read_by_user['ISBN'].values)]['ISBN']\n",
    "    \n",
    "    books_not_read_encoded_keys = set(isbn_to_isbn_encoded.keys())\n",
    "    books_not_read = list(set(books_not_read).intersection(books_not_read_encoded_keys))\n",
    "    \n",
    "    if not books_not_read:\n",
    "        print(f\"Tidak dapat menemukan buku baru untuk direkomendasikan kepada User {user_id_sample}.\")\n",
    "        return\n",
    "\n",
    "    books_not_read_encoded = [[isbn_to_isbn_encoded.get(x)] for x in books_not_read]\n",
    "    user_encoder = user_to_user_encoded.get(user_id_sample)\n",
    "    \n",
    "    user_book_array = np.hstack(([[user_encoder]] * len(books_not_read_encoded), books_not_read_encoded))\n",
    "    predicted_ratings = model.predict(user_book_array, verbose=0).flatten()\n",
    "    \n",
    "    top_ratings_indices = predicted_ratings.argsort()[-10:][::-1]\n",
    "    recommended_isbn_ids = [isbn_encoded_to_isbn.get(books_not_read_encoded[x][0]) for x in top_ratings_indices]\n",
    "    \n",
    "    print(\"=\" * 40)\n",
    "    print(f\"Menampilkan rekomendasi untuk User ID: {user_id_sample}\")\n",
    "    print(\"=\" * 40)\n",
    "    \n",
    "    print(\"\\nBuku yang pernah diberi rating tinggi oleh user ini:\")\n",
    "    top_books_user = books_read_by_user.sort_values(by='Book-Rating', ascending=False).head(5)\n",
    "    top_books_df = pd.merge(top_books_user, books, on='ISBN')[['Book-Title', 'Book-Rating']]\n",
    "    if not top_books_df.empty:\n",
    "        display(top_books_df)\n",
    "    else:\n",
    "        print(\"User ini belum memberikan rating tinggi pada buku manapun.\")\n",
    "\n",
    "    print(\"\\nTop 10 Rekomendasi Buku:\")\n",
    "    recommended_books = books[books['ISBN'].isin(recommended_isbn_ids)][['Book-Title', 'Book-Author']]\n",
    "    display(recommended_books)\n",
    "\n",
    "\n",
    "# --- Widget Interaktif ---\n",
    "user_ids_list_collab = df_collab['User-ID'].unique().tolist()\n",
    "user_ids_list_collab.sort()\n",
    "\n",
    "@interact(user_id=widgets.Dropdown(options=user_ids_list_collab, description='Pilih User ID:'))\n",
    "def interactive_collab_recommendations(user_id):\n",
    "    get_collab_recommendations(user_id)"
   ]
  }
 ],
 "metadata": {
  "kernelspec": {
   "display_name": "dsml",
   "language": "python",
   "name": "python3"
  },
  "language_info": {
   "codemirror_mode": {
    "name": "ipython",
    "version": 3
   },
   "file_extension": ".py",
   "mimetype": "text/x-python",
   "name": "python",
   "nbconvert_exporter": "python",
   "pygments_lexer": "ipython3",
   "version": "3.10.11"
  }
 },
 "nbformat": 4,
 "nbformat_minor": 5
}
