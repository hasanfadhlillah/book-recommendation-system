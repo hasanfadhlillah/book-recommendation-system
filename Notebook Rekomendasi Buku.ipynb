{
 "cells": [
  {
   "cell_type": "markdown",
   "id": "50bbebe4",
   "metadata": {},
   "source": [
    "# **Proyek Sistem Rekomendasi Buku**"
   ]
  },
  {
   "cell_type": "markdown",
   "id": "d4b7e2e6",
   "metadata": {},
   "source": [
    "## Import Libraries"
   ]
  },
  {
   "cell_type": "code",
   "execution_count": null,
   "id": "9e913613",
   "metadata": {},
   "outputs": [],
   "source": [
    "# Import library dasar\n",
    "import pandas as pd\n",
    "import numpy as np\n",
    "\n",
    "# Import library untuk visualisasi\n",
    "import matplotlib.pyplot as plt\n",
    "import seaborn as sns\n",
    "\n",
    "# Import library untuk machine learning\n",
    "from sklearn.feature_extraction.text import TfidfVectorizer\n",
    "from sklearn.metrics.pairwise import cosine_similarity\n",
    "import tensorflow as tf\n",
    "from tensorflow import keras\n",
    "from tensorflow.keras import layers\n",
    "\n",
    "# Import library untuk interaktivitas di notebook\n",
    "import ipywidgets as widgets\n",
    "from ipywidgets import interact\n",
    "from IPython.display import display\n",
    "\n",
    "print(\"Semua library berhasil diimpor.\")"
   ]
  },
  {
   "cell_type": "markdown",
   "id": "5f2c0790",
   "metadata": {},
   "source": [
    "## Data Loading"
   ]
  },
  {
   "cell_type": "code",
   "execution_count": null,
   "id": "cebf2692",
   "metadata": {},
   "outputs": [],
   "source": [
    "# Memuat dataset dari file CSV\n",
    "try:\n",
    "    books = pd.read_csv('./datasets/Books.csv', on_bad_lines='skip', encoding='latin-1', low_memory=False)\n",
    "    ratings = pd.read_csv('./datasets/Ratings.csv', on_bad_lines='skip', encoding='latin-1', low_memory=False)\n",
    "    users = pd.read_csv('./datasets/Users.csv', on_bad_lines='skip', encoding='latin-1', low_memory=False)\n",
    "    print(\"Dataset berhasil dimuat.\")\n",
    "except FileNotFoundError as e:\n",
    "    print(f\"Error: {e}.\")\n",
    "    print(\"Pastikan file Books.csv, Ratings.csv, dan Users.csv berada di direktori yang sama.\")"
   ]
  },
  {
   "cell_type": "markdown",
   "id": "a0bf16cf",
   "metadata": {},
   "source": [
    "## Data Understanding - Part 1"
   ]
  },
  {
   "cell_type": "markdown",
   "id": "7f0890f5",
   "metadata": {},
   "source": [
    "### Inspeksi Data Awal"
   ]
  },
  {
   "cell_type": "code",
   "execution_count": null,
   "id": "9bc3ad92",
   "metadata": {},
   "outputs": [],
   "source": [
    "# Inspeksi Data Awal (Data Understanding - Part 1)\n",
    "print(\"--- Inspeksi DataFrame 'books' ---\")\n",
    "display(books.head())\n",
    "print(\"\\nInfo 'books':\")\n",
    "books.info()\n",
    "print(\"\\nCek Missing Values 'books':\")\n",
    "print(books.isnull().sum())\n",
    "print(\"\\n\" + \"=\"*40 + \"\\n\")\n",
    "\n",
    "print(\"--- Inspeksi DataFrame 'users' ---\")\n",
    "display(users.head())\n",
    "print(\"\\nInfo 'users':\")\n",
    "users.info()\n",
    "print(\"\\nCek Missing Values 'users':\")\n",
    "print(users.isnull().sum())\n",
    "print(\"\\n\" + \"=\"*40 + \"\\n\")\n",
    "\n",
    "print(\"--- Inspeksi DataFrame 'ratings' ---\")\n",
    "display(ratings.head())\n",
    "print(\"\\nInfo 'ratings':\")\n",
    "ratings.info()\n",
    "print(\"\\nCek Missing Values 'ratings':\")\n",
    "print(ratings.isnull().sum())"
   ]
  },
  {
   "cell_type": "markdown",
   "id": "4bc50234",
   "metadata": {},
   "source": [
    "## Data Preparation - Part 1"
   ]
  },
  {
   "cell_type": "markdown",
   "id": "92a25def",
   "metadata": {},
   "source": [
    "### Data Cleaning & Preprocessing"
   ]
  },
  {
   "cell_type": "code",
   "execution_count": null,
   "id": "b1dd5ba0",
   "metadata": {},
   "outputs": [],
   "source": [
    "# Data Cleaning & Preprocessing (Data Preparation - Part 1)\n",
    "print(\"--- Memulai Data Cleaning ---\")\n",
    "\n",
    "# Membersihkan kolom 'Year-Of-Publication'\n",
    "# Mengubah ke numerik, error diubah menjadi NaN (Not a Number)\n",
    "books['Year-Of-Publication'] = pd.to_numeric(books['Year-Of-Publication'], errors='coerce')\n",
    "# Mengganti tahun yang tidak valid (misal: 0 atau > 2025) dengan NaN\n",
    "books.loc[(books['Year-Of-Publication'] == 0) | (books['Year-Of-Publication'] > 2025), 'Year-Of-Publication'] = np.NAN\n",
    "# Mengisi NaN dengan median tahun publikasi\n",
    "books['Year-Of-Publication'].fillna(round(books['Year-Of-Publication'].median()), inplace=True)\n",
    "\n",
    "# Membersihkan kolom 'Publisher' dan 'Book-Author'\n",
    "# Mengisi NaN dengan 'Unknown'\n",
    "books['Publisher'].fillna('Unknown', inplace=True)\n",
    "books['Book-Author'].fillna('Unknown', inplace=True)\n",
    "\n",
    "# Membersihkan kolom 'Age' di 'users'\n",
    "# Mengganti umur yang tidak realistis (< 5 atau > 100) dengan NaN\n",
    "users.loc[(users['Age'] < 5) | (users['Age'] > 100), 'Age'] = np.nan\n",
    "# Mengisi NaN dengan median umur\n",
    "users['Age'].fillna(users['Age'].median(), inplace=True)\n",
    "\n",
    "\n",
    "print(\"--- Data Cleaning Selesai ---\")\n",
    "print(\"\\nInfo 'books' setelah cleaning:\")\n",
    "books.info()\n",
    "print(\"\\nInfo 'users' setelah cleaning:\")\n",
    "users.info()"
   ]
  },
  {
   "cell_type": "markdown",
   "id": "ab1710ca",
   "metadata": {},
   "source": [
    "## Data Understanding - Part 2"
   ]
  },
  {
   "cell_type": "markdown",
   "id": "6f0e6f16",
   "metadata": {},
   "source": [
    "### Exploratory Data Analysis (EDA)"
   ]
  },
  {
   "cell_type": "code",
   "execution_count": null,
   "id": "2aba68ed",
   "metadata": {},
   "outputs": [],
   "source": [
    "# Exploratory Data Analysis (EDA) - (Data Understanding - Part 2)\n",
    "\n",
    "# --- Univariate Analysis ---\n",
    "# 1. Distribusi Umur Pengguna\n",
    "plt.figure(figsize=(10, 6))\n",
    "sns.histplot(users['Age'], bins=30, kde=True)\n",
    "plt.title('Distribusi Umur Pengguna')\n",
    "plt.xlabel('Umur')\n",
    "plt.ylabel('Jumlah Pengguna')\n",
    "plt.show()\n",
    "\n",
    "# 2. Distribusi Tahun Publikasi Buku\n",
    "plt.figure(figsize=(10, 6))\n",
    "sns.histplot(books['Year-Of-Publication'], bins=30, kde=True)\n",
    "plt.title('Distribusi Tahun Publikasi Buku')\n",
    "plt.xlabel('Tahun Publikasi')\n",
    "plt.ylabel('Jumlah Buku')\n",
    "plt.show()\n",
    "\n",
    "# --- Bivariate Analysis ---\n",
    "# Gabungkan semua data untuk analisis mendalam\n",
    "df_merged = pd.merge(ratings, users, on='User-ID')\n",
    "df_merged = pd.merge(df_merged, books, on='ISBN')\n",
    "\n",
    "# 3. Rata-rata Rating berdasarkan Kelompok Umur\n",
    "# Membuat kategori umur\n",
    "bins = [0, 18, 30, 50, 100]\n",
    "labels = ['<18', '18-30', '31-50', '>50']\n",
    "df_merged['Age-Group'] = pd.cut(df_merged['Age'], bins=bins, labels=labels, right=False)\n",
    "\n",
    "# Mengabaikan rating 0 (implisit) untuk analisis ini\n",
    "avg_rating_by_age = df_merged[df_merged['Book-Rating'] != 0].groupby('Age-Group')['Book-Rating'].mean()\n",
    "\n",
    "plt.figure(figsize=(10, 6))\n",
    "avg_rating_by_age.plot(kind='bar', color=sns.color_palette('viridis'))\n",
    "plt.title('Rata-rata Rating Buku Berdasarkan Kelompok Umur')\n",
    "plt.xlabel('Kelompok Umur')\n",
    "plt.ylabel('Rata-rata Rating')\n",
    "plt.xticks(rotation=0)\n",
    "plt.show()"
   ]
  },
  {
   "cell_type": "markdown",
   "id": "c597bab3",
   "metadata": {},
   "source": [
    "## Data Preparation - Part 2"
   ]
  },
  {
   "cell_type": "markdown",
   "id": "6fa06fe7",
   "metadata": {},
   "source": [
    "### Menggabungkan dan Finalisasi Data"
   ]
  },
  {
   "cell_type": "code",
   "execution_count": null,
   "id": "b00eadc9",
   "metadata": {},
   "outputs": [],
   "source": [
    "# Menggabungkan dan Finalisasi Data (Data Preparation - Part 2)\n",
    "\n",
    "# Menggabungkan ratings dan books\n",
    "df_final = pd.merge(ratings, books, on='ISBN', how='left')\n",
    "\n",
    "# Menghapus duplikat berdasarkan interaksi user-judul buku\n",
    "df_final.drop_duplicates(['User-ID', 'Book-Title'], inplace=True)\n",
    "\n",
    "# Menghapus baris dimana atribut penting untuk model tidak ada\n",
    "df_final.dropna(subset=['Book-Title', 'Book-Author'], inplace=True)\n",
    "\n",
    "print(f\"Jumlah data setelah digabung dan dibersihkan: {len(df_final)}\")"
   ]
  },
  {
   "cell_type": "markdown",
   "id": "dc655f3a",
   "metadata": {},
   "source": [
    "## Model Development"
   ]
  },
  {
   "cell_type": "markdown",
   "id": "f8d1f010",
   "metadata": {},
   "source": [
    "### Content-Based Filtering"
   ]
  },
  {
   "cell_type": "code",
   "execution_count": null,
   "id": "eeeba0f0",
   "metadata": {},
   "outputs": [],
   "source": [
    "# Model Development - Content-Based Filtering\n",
    "\n",
    "# Persiapan data unik buku\n",
    "books_for_content = df_final.drop_duplicates('Book-Title')[['Book-Title', 'Book-Author']]\n",
    "\n",
    "# Inisialisasi dan fitting TF-IDF\n",
    "tf_idf = TfidfVectorizer()\n",
    "tfidf_matrix = tf_idf.fit_transform(books_for_content['Book-Author'].fillna(''))\n",
    "cosine_sim = cosine_similarity(tfidf_matrix)\n",
    "cosine_sim_df = pd.DataFrame(cosine_sim, index=books_for_content['Book-Title'], columns=books_for_content['Book-Title'])\n",
    "\n",
    "# Fungsi rekomendasi\n",
    "def get_book_recommendations(book_title, k=5):\n",
    "    try:\n",
    "        index = cosine_sim_df.loc[:, book_title].to_numpy().argpartition(range(-1, -k, -1))\n",
    "        closest = cosine_sim_df.columns[index[-1:-(k+2):-1]]\n",
    "        closest = closest.drop(book_title, errors='ignore')\n",
    "        recommendations = pd.DataFrame(closest).merge(books_for_content).head(k)\n",
    "        return recommendations\n",
    "    except KeyError:\n",
    "        print(f\"Buku dengan judul '{book_title}' tidak ditemukan.\")\n",
    "        return pd.DataFrame()\n",
    "\n",
    "# --- Widget Interaktif ---\n",
    "book_titles_list = books_for_content['Book-Title'].sort_values().tolist()\n",
    "\n",
    "@interact(\n",
    "    book_title=widgets.Dropdown(options=book_titles_list, description='Pilih Judul Buku:', layout={'width': '500px'}),\n",
    "    k=widgets.IntSlider(min=5, max=15, step=1, value=10, description='Jumlah Rekomendasi:')\n",
    ")\n",
    "def interactive_recommendations(book_title, k):\n",
    "    recommendations_df = get_book_recommendations(book_title, k)\n",
    "    if not recommendations_df.empty:\n",
    "        display(recommendations_df)"
   ]
  },
  {
   "cell_type": "markdown",
   "id": "1cc4c866",
   "metadata": {},
   "source": [
    "### Preparation for Collaborative Filtering"
   ]
  },
  {
   "cell_type": "code",
   "execution_count": null,
   "id": "a3cc50ad",
   "metadata": {},
   "outputs": [],
   "source": [
    "# --- Preparation for Collaborative Filtering ---\n",
    "\n",
    "# Menggunakan data yang sudah digabungkan dan bersih\n",
    "df_collab = df_final.copy()\n",
    "\n",
    "# Konseptual Outlier Handling:\n",
    "# Untuk model collaborative, kita fokus pada pengguna yang aktif dan buku yang cukup populer\n",
    "# Untuk membantu mengurangi noise dan membuat model lebih stabil\n",
    "user_counts = df_collab['User-ID'].value_counts()\n",
    "book_counts = df_collab['ISBN'].value_counts()\n",
    "\n",
    "# Filter pengguna yang memberi rating > 10 buku dan buku yang menerima > 5 rating\n",
    "df_collab = df_collab[df_collab['User-ID'].isin(user_counts[user_counts > 10].index)]\n",
    "df_collab = df_collab[df_collab['ISBN'].isin(book_counts[book_counts > 5].index)]\n",
    "\n",
    "# Fokus pada rating eksplisit (1-10)\n",
    "df_collab = df_collab[df_collab['Book-Rating'] != 0]\n",
    "\n",
    "print(f\"Jumlah data setelah difilter untuk Collaborative Filtering: {len(df_collab)}\")\n",
    "\n",
    "\n",
    "# Encoding User-ID dan ISBN\n",
    "user_ids = df_collab['User-ID'].unique().tolist()\n",
    "user_to_user_encoded = {x: i for i, x in enumerate(user_ids)}\n",
    "user_encoded_to_user = {i: x for i, x in enumerate(user_ids)}\n",
    "\n",
    "isbn_ids = df_collab['ISBN'].unique().tolist()\n",
    "isbn_to_isbn_encoded = {x: i for i, x in enumerate(isbn_ids)}\n",
    "isbn_encoded_to_isbn = {i: x for i, x in enumerate(isbn_ids)}\n",
    "\n",
    "# Mapping dan Normalisasi\n",
    "df_collab['user'] = df_collab['User-ID'].map(user_to_user_encoded)\n",
    "df_collab['book'] = df_collab['ISBN'].map(isbn_to_isbn_encoded)\n",
    "\n",
    "min_rating = min(df_collab['Book-Rating'])\n",
    "max_rating = max(df_collab['Book-Rating'])\n",
    "df_collab['rating'] = df_collab['Book-Rating'].apply(lambda x: (x - min_rating) / (max_rating - min_rating)).values\n",
    "\n",
    "# Membagi data training dan validasi\n",
    "df_shuffled = df_collab.sample(frac=1, random_state=42)\n",
    "x = df_shuffled[['user', 'book']].values\n",
    "y = df_shuffled['rating'].values\n",
    "\n",
    "train_indices = int(0.8 * df_shuffled.shape[0])\n",
    "x_train, x_val, y_train, y_val = (\n",
    "    x[:train_indices],\n",
    "    x[train_indices:],\n",
    "    y[:train_indices],\n",
    "    y[train_indices:]\n",
    ")"
   ]
  },
  {
   "cell_type": "markdown",
   "id": "a9bb84d0",
   "metadata": {},
   "source": [
    "### Collaborative Filtering"
   ]
  },
  {
   "cell_type": "code",
   "execution_count": null,
   "id": "c70a4a30",
   "metadata": {},
   "outputs": [],
   "source": [
    "# Model Development - Collaborative Filtering\n",
    "class RecommenderNet(tf.keras.Model):\n",
    "    def __init__(self, num_users, num_books, embedding_size, **kwargs):\n",
    "        super(RecommenderNet, self).__init__(**kwargs)\n",
    "        self.num_users = num_users\n",
    "        self.num_books = num_books\n",
    "        self.embedding_size = embedding_size\n",
    "        self.user_embedding = layers.Embedding(num_users, embedding_size, embeddings_initializer='he_normal', embeddings_regularizer=keras.regularizers.l2(1e-6))\n",
    "        self.user_bias = layers.Embedding(num_users, 1)\n",
    "        self.book_embedding = layers.Embedding(num_books, embedding_size, embeddings_initializer='he_normal', embeddings_regularizer=keras.regularizers.l2(1e-6))\n",
    "        self.book_bias = layers.Embedding(num_books, 1)\n",
    "\n",
    "    def call(self, inputs):\n",
    "        user_vector = self.user_embedding(inputs[:, 0])\n",
    "        user_bias = self.user_bias(inputs[:, 0])\n",
    "        book_vector = self.book_embedding(inputs[:, 1])\n",
    "        book_bias = self.book_bias(inputs[:, 1])\n",
    "        dot_user_book = tf.tensordot(user_vector, book_vector, 2)\n",
    "        x = dot_user_book + user_bias + book_bias\n",
    "        return tf.nn.sigmoid(x)\n",
    "\n",
    "model = RecommenderNet(len(user_to_user_encoded), len(isbn_to_isbn_encoded), 50)\n",
    "model.compile(\n",
    "    loss=tf.keras.losses.BinaryCrossentropy(),\n",
    "    optimizer=keras.optimizers.Adam(learning_rate=0.001),\n",
    "    metrics=[tf.keras.metrics.RootMeanSquaredError()]\n",
    ")"
   ]
  },
  {
   "cell_type": "markdown",
   "id": "4f3b2620",
   "metadata": {},
   "source": [
    "## Training the Collaborative Model"
   ]
  },
  {
   "cell_type": "code",
   "execution_count": null,
   "id": "9814d9eb",
   "metadata": {},
   "outputs": [],
   "source": [
    "# Training the Collaborative Model\n",
    "history = model.fit(\n",
    "    x=x_train,\n",
    "    y=y_train,\n",
    "    batch_size=64,\n",
    "    epochs=20,\n",
    "    validation_data=(x_val, y_val)\n",
    ")"
   ]
  },
  {
   "cell_type": "markdown",
   "id": "c9a90dbf",
   "metadata": {},
   "source": [
    "## Evaluation Plot"
   ]
  },
  {
   "cell_type": "code",
   "execution_count": null,
   "id": "4275b5dc",
   "metadata": {},
   "outputs": [],
   "source": [
    "# Plotting hasil training\n",
    "plt.plot(history.history['root_mean_squared_error'])\n",
    "plt.plot(history.history['val_root_mean_squared_error'])\n",
    "plt.title('Model Metrics (RMSE)')\n",
    "plt.ylabel('RMSE')\n",
    "plt.xlabel('Epoch')\n",
    "plt.legend(['train', 'test'], loc='upper left')\n",
    "plt.show()"
   ]
  },
  {
   "cell_type": "markdown",
   "id": "7558c08c",
   "metadata": {},
   "source": [
    "## Generating Recommendations from Collaborative Model"
   ]
  },
  {
   "cell_type": "code",
   "execution_count": null,
   "id": "e0ac480e",
   "metadata": {},
   "outputs": [],
   "source": [
    "# Generating Recommendations from Collaborative Model\n",
    "\n",
    "def get_collab_recommendations(user_id_sample):\n",
    "    books_read_by_user = df_collab[df_collab['User-ID'] == user_id_sample]\n",
    "    books_not_read = books[~books['ISBN'].isin(books_read_by_user['ISBN'].values)]['ISBN']\n",
    "    \n",
    "    books_not_read_encoded_keys = set(isbn_to_isbn_encoded.keys())\n",
    "    books_not_read = list(set(books_not_read).intersection(books_not_read_encoded_keys))\n",
    "    \n",
    "    if not books_not_read:\n",
    "        print(f\"Tidak dapat menemukan buku baru untuk direkomendasikan kepada User {user_id_sample}.\")\n",
    "        return\n",
    "\n",
    "    books_not_read_encoded = [[isbn_to_isbn_encoded.get(x)] for x in books_not_read]\n",
    "    user_encoder = user_to_user_encoded.get(user_id_sample)\n",
    "    \n",
    "    user_book_array = np.hstack(([[user_encoder]] * len(books_not_read_encoded), books_not_read_encoded))\n",
    "    predicted_ratings = model.predict(user_book_array, verbose=0).flatten()\n",
    "    \n",
    "    top_ratings_indices = predicted_ratings.argsort()[-10:][::-1]\n",
    "    recommended_isbn_ids = [isbn_encoded_to_isbn.get(books_not_read_encoded[x][0]) for x in top_ratings_indices]\n",
    "    \n",
    "    print(\"=\" * 40)\n",
    "    print(f\"Menampilkan rekomendasi untuk User ID: {user_id_sample}\")\n",
    "    print(\"=\" * 40)\n",
    "    \n",
    "    print(\"\\nBuku yang pernah diberi rating tinggi oleh user ini:\")\n",
    "    top_books_user = books_read_by_user.sort_values(by='Book-Rating', ascending=False).head(5)\n",
    "    top_books_df = pd.merge(top_books_user, books, on='ISBN')[['Book-Title', 'Book-Rating']]\n",
    "    if not top_books_df.empty:\n",
    "        display(top_books_df)\n",
    "    else:\n",
    "        print(\"User ini belum memberikan rating tinggi pada buku manapun.\")\n",
    "\n",
    "    print(\"\\nTop 10 Rekomendasi Buku:\")\n",
    "    recommended_books = books[books['ISBN'].isin(recommended_isbn_ids)][['Book-Title', 'Book-Author']]\n",
    "    display(recommended_books)\n",
    "\n",
    "\n",
    "# --- Widget Interaktif ---\n",
    "user_ids_list_collab = df_collab['User-ID'].unique().tolist()\n",
    "user_ids_list_collab.sort()\n",
    "\n",
    "@interact(user_id=widgets.Dropdown(options=user_ids_list_collab, description='Pilih User ID:'))\n",
    "def interactive_collab_recommendations(user_id):\n",
    "    get_collab_recommendations(user_id)"
   ]
  }
 ],
 "metadata": {
  "kernelspec": {
   "display_name": "dsml",
   "language": "python",
   "name": "python3"
  },
  "language_info": {
   "name": "python",
   "version": "3.10.11"
  }
 },
 "nbformat": 4,
 "nbformat_minor": 5
}
